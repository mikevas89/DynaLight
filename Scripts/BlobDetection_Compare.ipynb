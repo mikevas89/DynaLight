{
 "metadata": {
  "name": ""
 },
 "nbformat": 3,
 "nbformat_minor": 0,
 "worksheets": [
  {
   "cells": [
    {
     "cell_type": "code",
     "collapsed": false,
     "input": [
      "import glob, os\n",
      "import numpy as np\n",
      "import cv2\n",
      "from matplotlib import pyplot as plt\n",
      "import math\n",
      "from __future__ import division\n",
      "import re\n",
      "\n",
      "\n",
      "%matplotlib inline\n",
      "\n",
      "\n",
      "average_arrayNoHE = []\n",
      "std_arrayNoHE = []\n",
      "average_arrayHE = []\n",
      "std_arrayHE = []\n",
      "\n",
      "bitsHE = []\n",
      "bitsNoHE = []\n",
      "\n",
      "\n",
      "def natural_sort(l): \n",
      "    convert = lambda text: int(text) if text.isdigit() else text.lower() \n",
      "    alphanum_key = lambda key: [ convert(c) for c in re.split('([0-9]+)', key) ] \n",
      "    return sorted(l, key = alphanum_key)\n",
      "\n",
      "\n",
      "def openImage( filename ):\n",
      "    gray_image = cv2.imread(filename, cv2.IMREAD_GRAYSCALE)    \n",
      "    return gray_image\n",
      "\n",
      "def equalizeHist(gray_image):\n",
      "    equ = cv2.equalizeHist(gray_image)\n",
      "    res = np.hstack((gray_image,equ)) #stacking images side-by-side\n",
      "    return equ\n",
      "    \n",
      "def equalizeHist2(gray_image):\n",
      "    # create a CLAHE object (Arguments are optional).\n",
      "    clahe = cv2.createCLAHE(clipLimit=10.0, tileGridSize=(8,8))\n",
      "    cl1 = clahe.apply(gray_image)\n",
      "    res = np.hstack((gray_image,cl1)) #stacking images side-by-side\n",
      "    return cl1\n",
      "    \n",
      "def blurImage(gray_image, input_image):\n",
      "    blur = cv2.blur(input_image,(3,3))\n",
      "    res1 = np.hstack((gray_image,input_image, blur)) #stacking images side-by-side\n",
      "    return blur\n",
      "\n",
      "def blobDetector(input_image,rgb_img):\n",
      "    \n",
      "    blurred = cv2.blur(input_image,(100,100))   \n",
      "\n",
      "    \n",
      "    thresh, imthresh = cv2.threshold(blurred,0,255,cv2.THRESH_BINARY+cv2.THRESH_OTSU)\n",
      "\n",
      "\n",
      "    \n",
      "    image, contours, hierarchy = cv2.findContours(imthresh, cv2.RETR_LIST, cv2.CHAIN_APPROX_SIMPLE)\n",
      "    \n",
      "\n",
      "    contourCenter = 0\n",
      "    contourRadius = 0\n",
      "    for contour in contours:\n",
      "        (x,y),radius = cv2.minEnclosingCircle(contour)\n",
      "        center = (int(x),int(y))\n",
      "        radius = int(radius)\n",
      "        if(radius > contourRadius):\n",
      "            contourCenter = center\n",
      "            contourRadius = radius\n",
      "        #print \"Radius\", radius\n",
      "        #cv2.circle(rgb_img,center, radius,(255,255,0), 10)\n",
      "\n",
      "        #print center   \n",
      "\n",
      "    \n",
      "    return contourCenter, contourRadius\n",
      "\n",
      "\n",
      "def processDistanceHE(path):\n",
      "    \n",
      "\n",
      "    dirs = [x[0] for x in os.walk(path)]\n",
      "    \n",
      "    dirs = natural_sort(dirs)\n",
      "    \n",
      "    for i in range (1, len(dirs)):\n",
      "        print dirs[i]\n",
      "        \n",
      "        os.chdir(dirs[i])\n",
      "    \n",
      "    \n",
      "        blobSize_array = []\n",
      "        \n",
      "        for file in os.listdir(os.getcwd()):\n",
      "            if file.endswith(\".jpg\"):\n",
      "                #print file\n",
      "                \n",
      "                gray_image = openImage(file)\n",
      "                image = cv2.imread(file)\n",
      "                b,g,r = cv2.split(image)       # get b,g,r\n",
      "                rgb_img = cv2.merge([r,g,b])     # switch it to rgb\n",
      "                \n",
      "                center, radius=blobDetector(gray_image,rgb_img)\n",
      "                #print \"No HE: \",\"Center: \", center[0], \"Radius: \", radius\n",
      "                \n",
      "                \n",
      "                equalized_image1 = equalizeHist(gray_image)\n",
      "                equalized_image2 = equalizeHist2(gray_image)\n",
      "                blurred1 = blurImage(gray_image, equalized_image1)\n",
      "                blurred2 = blurImage(gray_image, equalized_image2)\n",
      "        \n",
      "            \n",
      "                center, radiusHE=blobDetector(equalized_image1,rgb_img)\n",
      "                \n",
      "                \n",
      "                #print \"HE: \",\"Center: \", center[0], \"Radius: \", radiusHE\n",
      "        \n",
      "                center, radiusCLAHE=blobDetector(equalized_image2,rgb_img)\n",
      "                \n",
      "                #print \"CLAHE: \",\"Center: \", center[0], center[1], \"Radius: \", radiusCLAHE\n",
      "                \n",
      "                start = center[1] - radiusCLAHE\n",
      "                if(start < 0):\n",
      "                    start = 0\n",
      "                end = center[1] + radiusCLAHE\n",
      "                if(end > 1080):\n",
      "                    end = 1080\n",
      "                blobSize = end - start\n",
      "                \n",
      "                #print \"start\", start, \"end\", end, \"dif\", blobSize\n",
      "                \n",
      "        \n",
      "                blobSize_array.append(blobSize)\n",
      "                \n",
      "                radiusDifference = (radius / radiusCLAHE) * 100\n",
      "                \n",
      "                #print radiusDifference\n",
      "                \n",
      "                #print \"---------------------\"\n",
      "                \n",
      "        \n",
      "        #print radius_array\n",
      "        \n",
      "        average = np.mean(blobSize_array)\n",
      "        std = np.std(blobSize_array)\n",
      "        #print std\n",
      "       \n",
      "        \n",
      "        average_arrayHE.append(average)\n",
      "        std_arrayHE.append(std)\n",
      "        \n",
      "        bitsHE.append(calculateBits(average))\n",
      "\n",
      "        \n",
      "        print \"Average\", average\n",
      "\n",
      "        \n",
      "def plotDistanceVSBlobSize():\n",
      "    x = [20]\n",
      "    for i in range(3, 11):\n",
      "        x.append(i*10)\n",
      "    print x\n",
      "    \n",
      "    \n",
      "    plt.xlabel('Distance (cm)')\n",
      "    plt.ylabel('BlobSize (Pixels)')\n",
      "    plt.axis([10, 100 + 2, min(average_arrayNoHE)-20, max(average_arrayHE)+20])\n",
      "    #plt.errorbar(x, average_arrayNoHE, std_arrayNoHE , fmt='--o')\n",
      "    plt.plot(x, average_arrayHE, '--o', x, average_arrayNoHE, '--ro')\n",
      "    plt.show()\n",
      "\n",
      "def plotBitsVSDistance():\n",
      "    \n",
      "    x = [20]\n",
      "    for i in range(3, 11):\n",
      "        x.append(i*10)\n",
      "    print x\n",
      "    \n",
      "    \n",
      "    plt.xlabel('Distance (cm)')\n",
      "    plt.ylabel('Symbols')\n",
      "    plt.axis([10, 100 + 2, min(bitsNoHE)-5, max(bitsHE)+5])\n",
      "    #plt.errorbar(x, average_arrayNoHE, std_arrayNoHE , fmt='--o')\n",
      "    l1, l2 = plt.plot(x, bitsHE, '--o', x, bitsNoHE, '--ro')\n",
      "    plt.legend((l1, l2), ('DynaLight', 'Luxapose'), loc='upper right', shadow=True)\n",
      "    plt.show()\n",
      "\n",
      "def plotDistanceVSBlobSize2():\n",
      "    x = [20]\n",
      "    for i in range(3, 13):\n",
      "        x.append(i*10)\n",
      "    print x\n",
      "    \n",
      "    \n",
      "    plt.xlabel('Distance (cm)')\n",
      "    plt.ylabel('BlobSize (Pixels)')\n",
      "    plt.axis([10, 140 + 2, min(average_arrayNoHE)-20, max(average_arrayHE)+20])\n",
      "    #plt.errorbar(x, average_arrayNoHE, std_arrayNoHE , fmt='--o')\n",
      "    l1, l2 = plt.plot(x, average_arrayHE, '--o', x, average_arrayNoHE, '--ro')\n",
      "    plt.legend((l1, l2), ('DynaLight', 'Luxapose'), loc='upper right', shadow=True)\n",
      "    plt.show()\n",
      "\n",
      "def plotBitsVSDistance2():\n",
      "    \n",
      "    x = [20]\n",
      "    for i in range(3, 13):\n",
      "        x.append(i*10)\n",
      "    print x\n",
      "    \n",
      "    \n",
      "    plt.xlabel('Distance (cm)')\n",
      "    plt.ylabel('Symbols')\n",
      "    plt.axis([10, 140 + 2, 0, max(bitsHE)+5])\n",
      "    #plt.errorbar(x, average_arrayNoHE, std_arrayNoHE , fmt='--o')\n",
      "    l1, l2 = plt.plot(x, bitsHE, '-gD', x, bitsNoHE, '--b^')\n",
      "    plt.yticks(np.arange(0, 20, 2.0))\n",
      "    plt.legend((l1, l2), ('DynaLight', 'Luxapose'), loc='upper right', shadow=True)\n",
      "    plt.show()\n",
      "    \n",
      "\n",
      "def calculateBits(blobSize):\n",
      "    \n",
      "    width = 8\n",
      "\n",
      "    d_bit = 2 * width\n",
      "\n",
      "    d_blob = blobSize\n",
      "\n",
      "    d_preamble = 2.5 * d_bit\n",
      "\n",
      "    bits = (d_blob - 2 * d_preamble) / (2 * d_bit)\n",
      "    \n",
      "    return math.ceil(bits)   \n",
      "    \n",
      "\n",
      "    \n",
      "def processDistanceNoHE(path):\n",
      "    \n",
      "\n",
      "    dirs = [x[0] for x in os.walk(path)]\n",
      "    \n",
      "    dirs = natural_sort(dirs)\n",
      "    \n",
      "    for i in range (1, len(dirs)):\n",
      "        print dirs[i]\n",
      "        \n",
      "        os.chdir(dirs[i])\n",
      "    \n",
      "    \n",
      "        blobSize_array = []\n",
      "        \n",
      "        for file in os.listdir(os.getcwd()):\n",
      "            if file.endswith(\".jpg\"):\n",
      "                #print file\n",
      "                \n",
      "                gray_image = openImage(file)\n",
      "                image = cv2.imread(file)\n",
      "                b,g,r = cv2.split(image)       # get b,g,r\n",
      "                rgb_img = cv2.merge([r,g,b])     # switch it to rgb\n",
      "                \n",
      "                center, radius=blobDetector(gray_image,rgb_img)\n",
      "                #print \"No HE: \",\"Center: \", center[0], \"Radius: \", radius\n",
      "                \n",
      "                \n",
      "                #print \"CLAHE: \",\"Center: \", center[0], center[1], \"Radius: \", radiusCLAHE\n",
      "                \n",
      "                start = center[1] - radius\n",
      "                if(start < 0):\n",
      "                    start = 0\n",
      "                end = center[1] + radius\n",
      "                if(end > 1080):\n",
      "                    end = 1080\n",
      "                blobSize = end - start\n",
      "                \n",
      "                #print \"start\", start, \"end\", end, \"dif\", blobSize\n",
      "                \n",
      "        \n",
      "                blobSize_array.append(blobSize)\n",
      "                                \n",
      "                #print radiusDifference\n",
      "                \n",
      "                #print \"---------------------\"\n",
      "                \n",
      "        \n",
      "        #print radius_array\n",
      "        \n",
      "        average = np.mean(blobSize_array)\n",
      "        std = np.std(blobSize_array)\n",
      "        #print std\n",
      "       \n",
      "        \n",
      "        average_arrayNoHE.append(average)\n",
      "        std_arrayNoHE.append(std)\n",
      "        \n",
      "        bitsNoHE.append(calculateBits(average))\n",
      "        \n",
      "        print \"Average\", average\n",
      "\n",
      "    \n",
      "    \n",
      "def processBits(path):\n",
      "    \n",
      "    average_array = []\n",
      "    std_array = []\n",
      "    \n",
      "    dirs = [x[0] for x in os.walk(path)]\n",
      "    \n",
      "    dirs = natural_sort(dirs)\n",
      "    \n",
      "    for i in range (1, len(dirs)):\n",
      "        print dirs[i]\n",
      "        \n",
      "        os.chdir(dirs[i])\n",
      "    \n",
      "    \n",
      "        blobSize_array = []\n",
      "        \n",
      "        for file in os.listdir(os.getcwd()):\n",
      "            if file.endswith(\".jpg\"):\n",
      "                #print file\n",
      "                \n",
      "                gray_image = openImage(file)\n",
      "                image = cv2.imread(file)\n",
      "                b,g,r = cv2.split(image)       # get b,g,r\n",
      "                rgb_img = cv2.merge([r,g,b])     # switch it to rgb\n",
      "                \n",
      "                center, radius=blobDetector(gray_image,rgb_img)\n",
      "                #print \"No HE: \",\"Center: \", center[0], \"Radius: \", radius\n",
      "                \n",
      "                \n",
      "                equalized_image1 = equalizeHist(gray_image)\n",
      "                equalized_image2 = equalizeHist2(gray_image)\n",
      "                blurred1 = blurImage(gray_image, equalized_image1)\n",
      "                blurred2 = blurImage(gray_image, equalized_image2)\n",
      "        \n",
      "            \n",
      "                center, radiusHE=blobDetector(equalized_image1,rgb_img)\n",
      "                \n",
      "                \n",
      "                #print \"HE: \",\"Center: \", center[0], \"Radius: \", radiusHE\n",
      "        \n",
      "                center, radiusCLAHE=blobDetector(equalized_image2,rgb_img)\n",
      "                \n",
      "                #print \"CLAHE: \",\"Center: \", center[0], center[1], \"Radius: \", radiusCLAHE\n",
      "                \n",
      "                start = center[1] - radiusCLAHE\n",
      "                if(start < 0):\n",
      "                    start = 0\n",
      "                end = center[1] + radiusCLAHE\n",
      "                if(end > 1080):\n",
      "                    end = 1080\n",
      "                blobSize = end - start\n",
      "                \n",
      "                #print \"start\", start, \"end\", end, \"dif\", blobSize\n",
      "\n",
      "        \n",
      "                blobSize_array.append(blobSize)\n",
      "                \n",
      "                radiusDifference = (radius / radiusCLAHE) * 100\n",
      "                \n",
      "                #print radiusDifference\n",
      "                \n",
      "                #print \"---------------------\"\n",
      "                \n",
      "        \n",
      "        #print radius_array\n",
      "        \n",
      "        average = np.mean(blobSize_array)\n",
      "        std = np.std(blobSize_array)\n",
      "        #print std\n",
      "       \n",
      "        \n",
      "        average_array.append(average)\n",
      "        std_array.append(std)\n",
      "        \n",
      "        print \"Average\", average\n",
      "\n",
      "        \n",
      "    \n",
      "    x = []\n",
      "    for i in range(0, len(average_array)):\n",
      "        x.append(i+1)\n",
      "    #print x\n",
      "    \n",
      "    \n",
      "    plt.xlabel('Bits')\n",
      "    plt.ylabel('BlobSize (Pixels)')\n",
      "    plt.axis([0, max(x) + 2, min(average_array)-20, max(average_array)+20])\n",
      "    plt.xticks(np.arange(min(x), max(x)+1, 1.0))\n",
      "    plt.errorbar(x, average_array, std_array , fmt='--o')\n",
      "    plt.show()\n",
      "\n",
      "\n",
      "\n",
      "\n",
      "'''\n",
      "print\"With HE\"\n",
      "processDistanceHE(\"/home/mike/Documents/Experiments/MaxPower/BlobSizeON_vs_Distance/\")\n",
      "print\"Without HE\"\n",
      "processDistanceNoHE(\"/home/mike/Documents/Experiments/MaxPower/BlobSizeON_vs_Distance/\")\n",
      "\n",
      "plotDistanceVSBlobSize()\n",
      "\n",
      "print bitsHE\n",
      "\n",
      "print bitsNoHE\n",
      "\n",
      "plotBitsVSDistance()\n",
      "\n",
      "'''\n",
      "\n",
      "print \"----------------------------------------------------------------------------------------\"\n",
      "\n",
      "average_arrayNoHE = []\n",
      "std_arrayNoHE = []\n",
      "average_arrayHE = []\n",
      "std_arrayHE = []\n",
      "\n",
      "bitsHE = []\n",
      "bitsNoHE = []\n",
      "\n",
      "\n",
      "print\"With HE\"\n",
      "processDistanceHE(\"/home/mike/Documents/Experiments/Evaluation/blobSize/diffuser/\")\n",
      "print\"Without HE\"\n",
      "processDistanceNoHE(\"/home/mike/Documents/Experiments/Evaluation/blobSize/diffuser/\")\n",
      "\n",
      "plotDistanceVSBlobSize2()\n",
      "\n",
      "print bitsHE\n",
      "\n",
      "print bitsNoHE\n",
      "\n",
      "plotBitsVSDistance2()\n",
      "\n",
      "\n",
      "diffuserNoHE = average_arrayNoHE\n",
      "\n",
      "diffuserHE = average_arrayHE\n",
      "\n",
      "\n",
      "print \"----------------------------------------------------------------------------------------\"\n",
      "\n",
      "average_arrayNoHE = []\n",
      "std_arrayNoHE = []\n",
      "average_arrayHE = []\n",
      "std_arrayHE = []\n",
      "\n",
      "bitsHE = []\n",
      "bitsNoHE = []\n",
      "\n",
      "\n",
      "print\"With HE\"\n",
      "processDistanceHE(\"/home/mike/Documents/Experiments/Evaluation/blobSize/noLens/\")\n",
      "print\"Without HE\"\n",
      "processDistanceNoHE(\"/home/mike/Documents/Experiments/Evaluation/blobSize/noLens/\")\n",
      "\n",
      "plotDistanceVSBlobSize2()\n",
      "\n",
      "print bitsHE\n",
      "\n",
      "print bitsNoHE\n",
      "\n",
      "plotBitsVSDistance2()\n",
      "\n",
      "noLensNoHE = average_arrayNoHE\n",
      "noLensHE = average_arrayHE\n",
      "\n",
      "#processBits(\"/home/mike/Documents/Experiments/MaxPower/BlobSize_vs_PacketSize@20cm/\")\n",
      "\n",
      "#processBits(\"/home/mike/Documents/Experiments/MaxPower/BlobSize_vs_PacketSize@60cm/\")\n",
      "\n",
      "#processBits(\"/home/mike/Documents/Experiments/MaxPower/BlobSize_vs_PacketSize@99cm/\")\n",
      "\n",
      "\n",
      "\n",
      "\n"
     ],
     "language": "python",
     "metadata": {},
     "outputs": [
      {
       "output_type": "stream",
       "stream": "stdout",
       "text": [
        "----------------------------------------------------------------------------------------\n",
        "With HE\n",
        "/home/mike/Documents/Experiments/Evaluation/blobSize/diffuser/20"
       ]
      },
      {
       "output_type": "stream",
       "stream": "stdout",
       "text": [
        "\n",
        "Average"
       ]
      },
      {
       "output_type": "stream",
       "stream": "stdout",
       "text": [
        " 575.68\n",
        "/home/mike/Documents/Experiments/Evaluation/blobSize/diffuser/30\n",
        "Average"
       ]
      },
      {
       "output_type": "stream",
       "stream": "stdout",
       "text": [
        " 413.36\n",
        "/home/mike/Documents/Experiments/Evaluation/blobSize/diffuser/40\n",
        "Average"
       ]
      },
      {
       "output_type": "stream",
       "stream": "stdout",
       "text": [
        " 321.0\n",
        "/home/mike/Documents/Experiments/Evaluation/blobSize/diffuser/50\n",
        "Average"
       ]
      },
      {
       "output_type": "stream",
       "stream": "stdout",
       "text": [
        " 258.44\n",
        "/home/mike/Documents/Experiments/Evaluation/blobSize/diffuser/60\n",
        "Average"
       ]
      },
      {
       "output_type": "stream",
       "stream": "stdout",
       "text": [
        " 225.0\n",
        "/home/mike/Documents/Experiments/Evaluation/blobSize/diffuser/70\n",
        "Average"
       ]
      },
      {
       "output_type": "stream",
       "stream": "stdout",
       "text": [
        " 204.08\n",
        "/home/mike/Documents/Experiments/Evaluation/blobSize/diffuser/80\n",
        "Average"
       ]
      },
      {
       "output_type": "stream",
       "stream": "stdout",
       "text": [
        " 193.68\n",
        "/home/mike/Documents/Experiments/Evaluation/blobSize/diffuser/90\n",
        "Average"
       ]
      },
      {
       "output_type": "stream",
       "stream": "stdout",
       "text": [
        " 180.04\n",
        "/home/mike/Documents/Experiments/Evaluation/blobSize/diffuser/100\n",
        "Average"
       ]
      },
      {
       "output_type": "stream",
       "stream": "stdout",
       "text": [
        " 170.48\n",
        "/home/mike/Documents/Experiments/Evaluation/blobSize/diffuser/110\n",
        "Average"
       ]
      },
      {
       "output_type": "stream",
       "stream": "stdout",
       "text": [
        " 165.32\n",
        "/home/mike/Documents/Experiments/Evaluation/blobSize/diffuser/120\n",
        "Average"
       ]
      },
      {
       "output_type": "stream",
       "stream": "stdout",
       "text": [
        " 159.92\n",
        "Without HE\n",
        "/home/mike/Documents/Experiments/Evaluation/blobSize/diffuser/20\n",
        "Average"
       ]
      },
      {
       "output_type": "stream",
       "stream": "stdout",
       "text": [
        " 292.0\n",
        "/home/mike/Documents/Experiments/Evaluation/blobSize/diffuser/30\n",
        "Average"
       ]
      },
      {
       "output_type": "stream",
       "stream": "stdout",
       "text": [
        " 224.0\n",
        "/home/mike/Documents/Experiments/Evaluation/blobSize/diffuser/40\n",
        "Average"
       ]
      },
      {
       "output_type": "stream",
       "stream": "stdout",
       "text": [
        " 192.68\n",
        "/home/mike/Documents/Experiments/Evaluation/blobSize/diffuser/50\n",
        "Average"
       ]
      },
      {
       "output_type": "stream",
       "stream": "stdout",
       "text": [
        " 172.08\n",
        "/home/mike/Documents/Experiments/Evaluation/blobSize/diffuser/60\n",
        "Average"
       ]
      },
      {
       "output_type": "stream",
       "stream": "stdout",
       "text": [
        " 160.96\n",
        "/home/mike/Documents/Experiments/Evaluation/blobSize/diffuser/70\n",
        "Average"
       ]
      },
      {
       "output_type": "stream",
       "stream": "stdout",
       "text": [
        " 153.6\n",
        "/home/mike/Documents/Experiments/Evaluation/blobSize/diffuser/80\n",
        "Average"
       ]
      },
      {
       "output_type": "stream",
       "stream": "stdout",
       "text": [
        " 148.4\n",
        "/home/mike/Documents/Experiments/Evaluation/blobSize/diffuser/90\n",
        "Average"
       ]
      },
      {
       "output_type": "stream",
       "stream": "stdout",
       "text": [
        " 144.0\n",
        "/home/mike/Documents/Experiments/Evaluation/blobSize/diffuser/100\n",
        "Average"
       ]
      },
      {
       "output_type": "stream",
       "stream": "stdout",
       "text": [
        " 140.88\n",
        "/home/mike/Documents/Experiments/Evaluation/blobSize/diffuser/110\n",
        "Average"
       ]
      },
      {
       "output_type": "stream",
       "stream": "stdout",
       "text": [
        " 138.2\n",
        "/home/mike/Documents/Experiments/Evaluation/blobSize/diffuser/120\n",
        "Average"
       ]
      },
      {
       "output_type": "stream",
       "stream": "stdout",
       "text": [
        " 138.0\n",
        "[20, 30, 40, 50, 60, 70, 80, 90, 100, 110, 120]\n"
       ]
      },
      {
       "metadata": {},
       "output_type": "display_data",
       "png": "[encoded data removed]",
       "text": [
        "<matplotlib.figure.Figure at 0x7fd13d2155d0>"
       ]
      },
      {
       "output_type": "stream",
       "stream": "stdout",
       "text": [
        "[16.0, 11.0, 8.0, 6.0, 5.0, 4.0, 4.0, 4.0, 3.0, 3.0, 3.0]\n",
        "[7.0, 5.0, 4.0, 3.0, 3.0, 3.0, 3.0, 2.0, 2.0, 2.0, 2.0]\n",
        "[20, 30, 40, 50, 60, 70, 80, 90, 100, 110, 120]\n"
       ]
      },
      {
       "metadata": {},
       "output_type": "display_data",
       "png": "[encoded data removed]",
       "text": [
        "<matplotlib.figure.Figure at 0x7fd13d29c350>"
       ]
      },
      {
       "output_type": "stream",
       "stream": "stdout",
       "text": [
        "----------------------------------------------------------------------------------------\n",
        "With HE\n",
        "/home/mike/Documents/Experiments/Evaluation/blobSize/noLens/20\n",
        "Average"
       ]
      },
      {
       "output_type": "stream",
       "stream": "stdout",
       "text": [
        " 200.0\n",
        "/home/mike/Documents/Experiments/Evaluation/blobSize/noLens/30\n",
        "Average"
       ]
      },
      {
       "output_type": "stream",
       "stream": "stdout",
       "text": [
        " 165.6\n",
        "/home/mike/Documents/Experiments/Evaluation/blobSize/noLens/40\n",
        "Average"
       ]
      },
      {
       "output_type": "stream",
       "stream": "stdout",
       "text": [
        " 149.96\n",
        "/home/mike/Documents/Experiments/Evaluation/blobSize/noLens/50\n",
        "Average"
       ]
      },
      {
       "output_type": "stream",
       "stream": "stdout",
       "text": [
        " 141.52\n",
        "/home/mike/Documents/Experiments/Evaluation/blobSize/noLens/60\n",
        "Average"
       ]
      },
      {
       "output_type": "stream",
       "stream": "stdout",
       "text": [
        " 136.0\n",
        "/home/mike/Documents/Experiments/Evaluation/blobSize/noLens/70\n",
        "Average"
       ]
      },
      {
       "output_type": "stream",
       "stream": "stdout",
       "text": [
        " 135.96\n",
        "/home/mike/Documents/Experiments/Evaluation/blobSize/noLens/80\n",
        "Average"
       ]
      },
      {
       "output_type": "stream",
       "stream": "stdout",
       "text": [
        " 134.0\n",
        "/home/mike/Documents/Experiments/Evaluation/blobSize/noLens/90\n",
        "Average"
       ]
      },
      {
       "output_type": "stream",
       "stream": "stdout",
       "text": [
        " 133.72\n",
        "/home/mike/Documents/Experiments/Evaluation/blobSize/noLens/100\n",
        "Average"
       ]
      },
      {
       "output_type": "stream",
       "stream": "stdout",
       "text": [
        " 132.04\n",
        "/home/mike/Documents/Experiments/Evaluation/blobSize/noLens/110\n",
        "Average"
       ]
      },
      {
       "output_type": "stream",
       "stream": "stdout",
       "text": [
        " 134.12\n",
        "/home/mike/Documents/Experiments/Evaluation/blobSize/noLens/120\n",
        "Average"
       ]
      },
      {
       "output_type": "stream",
       "stream": "stdout",
       "text": [
        " 135.44\n",
        "Without HE\n",
        "/home/mike/Documents/Experiments/Evaluation/blobSize/noLens/20\n",
        "Average"
       ]
      },
      {
       "output_type": "stream",
       "stream": "stdout",
       "text": [
        " 152.0\n",
        "/home/mike/Documents/Experiments/Evaluation/blobSize/noLens/30\n",
        "Average"
       ]
      },
      {
       "output_type": "stream",
       "stream": "stdout",
       "text": [
        " 138.08\n",
        "/home/mike/Documents/Experiments/Evaluation/blobSize/noLens/40\n",
        "Average"
       ]
      },
      {
       "output_type": "stream",
       "stream": "stdout",
       "text": [
        " 134.24\n",
        "/home/mike/Documents/Experiments/Evaluation/blobSize/noLens/50\n",
        "Average"
       ]
      },
      {
       "output_type": "stream",
       "stream": "stdout",
       "text": [
        " 134.0\n",
        "/home/mike/Documents/Experiments/Evaluation/blobSize/noLens/60\n",
        "Average"
       ]
      },
      {
       "output_type": "stream",
       "stream": "stdout",
       "text": [
        " 133.6\n",
        "/home/mike/Documents/Experiments/Evaluation/blobSize/noLens/70\n",
        "Average"
       ]
      },
      {
       "output_type": "stream",
       "stream": "stdout",
       "text": [
        " 132.0\n",
        "/home/mike/Documents/Experiments/Evaluation/blobSize/noLens/80\n",
        "Average"
       ]
      },
      {
       "output_type": "stream",
       "stream": "stdout",
       "text": [
        " 132.04\n",
        "/home/mike/Documents/Experiments/Evaluation/blobSize/noLens/90\n",
        "Average"
       ]
      },
      {
       "output_type": "stream",
       "stream": "stdout",
       "text": [
        " 132.0\n",
        "/home/mike/Documents/Experiments/Evaluation/blobSize/noLens/100\n",
        "Average"
       ]
      },
      {
       "output_type": "stream",
       "stream": "stdout",
       "text": [
        " 132.0\n",
        "/home/mike/Documents/Experiments/Evaluation/blobSize/noLens/110\n",
        "Average"
       ]
      },
      {
       "output_type": "stream",
       "stream": "stdout",
       "text": [
        " 132.0\n",
        "/home/mike/Documents/Experiments/Evaluation/blobSize/noLens/120\n",
        "Average"
       ]
      },
      {
       "output_type": "stream",
       "stream": "stdout",
       "text": [
        " 134.0\n",
        "[20, 30, 40, 50, 60, 70, 80, 90, 100, 110, 120]\n"
       ]
      },
      {
       "metadata": {},
       "output_type": "display_data",
       "png": "[encoded data removed]",
       "text": [
        "<matplotlib.figure.Figure at 0x7fd13d168b90>"
       ]
      },
      {
       "output_type": "stream",
       "stream": "stdout",
       "text": [
        "[4.0, 3.0, 3.0, 2.0, 2.0, 2.0, 2.0, 2.0, 2.0, 2.0, 2.0]\n",
        "[3.0, 2.0, 2.0, 2.0, 2.0, 2.0, 2.0, 2.0, 2.0, 2.0, 2.0]\n",
        "[20, 30, 40, 50, 60, 70, 80, 90, 100, 110, 120]\n"
       ]
      },
      {
       "metadata": {},
       "output_type": "display_data",
       "png": "[encoded data removed]",
       "text": [
        "<matplotlib.figure.Figure at 0x7fd13d274dd0>"
       ]
      }
     ],
     "prompt_number": 6
    },
    {
     "cell_type": "code",
     "collapsed": false,
     "input": [
      "print diffuserNoHE\n",
      "\n",
      "print noLensNoHE\n",
      "\n",
      "print diffuserHE\n",
      "\n",
      "\n",
      "x = [20]\n",
      "for i in range(3, 13):\n",
      "    x.append(i*10)\n",
      "print x\n",
      "\n",
      "\n",
      "plt.xlabel('Distance (cm)')\n",
      "plt.ylabel('BlobSize (Pixels)')\n",
      "plt.axis([10, 140 + 2, min(noLensNoHE)-20, max(diffuserHE)+40])\n",
      "#plt.errorbar(x, average_arrayNoHE, std_arrayNoHE , fmt='--o')\n",
      "l1, l2, l3 = plt.plot(x, noLensNoHE, '-.ro', x, diffuserNoHE, '--b^', x, diffuserHE, '-gD')\n",
      "plt.yticks(np.arange(100, 610, 50.0))\n",
      "\n",
      "plt.legend((l1, l2, l3), ('NoLens (Luxapose)', 'Diffuser (Luxapose)', 'DynaLight (Contast Increase+Diffuser)'), loc='upper right', shadow=True)\n",
      "plt.show()\n",
      "\n",
      "\n",
      "\n"
     ],
     "language": "python",
     "metadata": {},
     "outputs": [
      {
       "output_type": "stream",
       "stream": "stdout",
       "text": [
        "[292.0, 224.0, 192.68000000000001, 172.08000000000001, 160.96000000000001, 153.59999999999999, 148.40000000000001, 144.0, 140.88, 138.19999999999999, 138.0]\n",
        "[152.0, 138.08000000000001, 134.24000000000001, 134.0, 133.59999999999999, 132.0, 132.03999999999999, 132.0, 132.0, 132.0, 134.0]\n",
        "[575.67999999999995, 413.36000000000001, 321.0, 258.44, 225.0, 204.08000000000001, 193.68000000000001, 180.03999999999999, 170.47999999999999, 165.31999999999999, 159.91999999999999]\n",
        "[20, 30, 40, 50, 60, 70, 80, 90, 100, 110, 120]\n"
       ]
      },
      {
       "metadata": {},
       "output_type": "display_data",
       "png": "[encoded data removed]",
       "text": [
        "<matplotlib.figure.Figure at 0x7fd13d1c0d90>"
       ]
      }
     ],
     "prompt_number": 4
    }
   ],
   "metadata": {}
  }
 ]
}