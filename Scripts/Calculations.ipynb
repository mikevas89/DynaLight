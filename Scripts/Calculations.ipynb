{
 "metadata": {
  "name": ""
 },
 "nbformat": 3,
 "nbformat_minor": 0,
 "worksheets": [
  {
   "cells": [
    {
     "cell_type": "code",
     "collapsed": false,
     "input": [
      "import glob, os\n",
      "import numpy as np\n",
      "import cv2\n",
      "from matplotlib import pyplot as plt\n",
      "import math\n",
      "from __future__ import division\n",
      "\n",
      "%matplotlib inline\n"
     ],
     "language": "python",
     "metadata": {},
     "outputs": [],
     "prompt_number": "*"
    },
    {
     "cell_type": "code",
     "collapsed": false,
     "input": [
      "f = 3500\n",
      "Tr = 1/float(46956)\n",
      "Te = 1/float(4000)\n",
      "rows = 1080\n",
      "\n",
      "print f - Te\n",
      "\n",
      "w = 1 / (2*f* Tr )\n",
      "print \"Band Width = \", w"
     ],
     "language": "python",
     "metadata": {},
     "outputs": [
      {
       "output_type": "stream",
       "stream": "stdout",
       "text": [
        "3499.99975\n",
        "Band Width =  6.708\n"
       ]
      }
     ],
     "prompt_number": 2
    },
    {
     "cell_type": "code",
     "collapsed": false,
     "input": [
      "radius = 273\n",
      "\n",
      "width = 8\n",
      "\n",
      "d_bit = 2 * width\n",
      "\n",
      "d_blob = 2* radius\n",
      "\n",
      "#d_blob = 350\n",
      "\n",
      "d_preamble = 2.5 * d_bit\n",
      "\n",
      "bits = (d_blob - 3 * d_preamble) / (2 * d_bit)\n",
      "\n",
      "print \"Bits = \", bits\n",
      "print \"Bits = \", math.ceil(bits)\n",
      "print d_preamble\n"
     ],
     "language": "python",
     "metadata": {},
     "outputs": [
      {
       "output_type": "stream",
       "stream": "stdout",
       "text": [
        "Bits =  13.3125\n",
        "Bits =  14.0\n",
        "40.0\n"
       ]
      }
     ],
     "prompt_number": 9
    },
    {
     "cell_type": "code",
     "collapsed": false,
     "input": [
      "\n",
      "def calculate_d_blob(bits):\n",
      "    width = 8\n",
      "\n",
      "    d_bit = 2 * width\n",
      "\n",
      "    d_preamble = 2.5 * d_bit\n",
      "    \n",
      "    d_blob = 3* d_preamble + 2 * d_bit * bits\n",
      "    \n",
      "    return d_blob\n",
      "    \n",
      "\n",
      "    \n",
      "d_blob_array = [] \n",
      "bits = 30\n",
      "for i in range(1, bits+1):\n",
      "    \n",
      "    d_blob = calculate_d_blob(i)\n",
      "    d_blob_array.append(d_blob)\n",
      "    #print d_blob\n",
      "\n",
      "x = []\n",
      "for i in range(0, len(d_blob_array)):\n",
      "    x.append(i+1)\n",
      "#print x\n",
      "\n",
      "\n",
      "plt.xlabel('Bits')\n",
      "plt.ylabel('BlobSize (Pixels)')\n",
      "plt.axis([0, max(x) + 2, min(d_blob_array)-20, max(d_blob_array)+20])\n",
      "plt.xticks(np.arange(0, max(x)+1, 5.0))\n",
      "plt.yticks(np.arange(0, max(d_blob_array)+1, 50.0))\n",
      "plt.plot(x, d_blob_array , \"o\")\n",
      "plt.show()\n",
      "\n",
      "print calculate_d_blob(7)"
     ],
     "language": "python",
     "metadata": {},
     "outputs": [
      {
       "metadata": {},
       "output_type": "display_data",
       "png": "[encoded data removed]",
       "text": [
        "<matplotlib.figure.Figure at 0x7fb0926f90d0>"
       ]
      },
      {
       "output_type": "stream",
       "stream": "stdout",
       "text": [
        "344.0\n"
       ]
      }
     ],
     "prompt_number": 12
    }
   ],
   "metadata": {}
  }
 ]
}