{
 "metadata": {
  "name": ""
 },
 "nbformat": 3,
 "nbformat_minor": 0,
 "worksheets": [
  {
   "cells": [
    {
     "cell_type": "code",
     "collapsed": false,
     "input": [
      "import glob, os\n",
      "import numpy as np\n",
      "from matplotlib import pyplot as plt\n",
      "import scipy.stats as stats\n",
      "\n",
      "\n",
      "\n",
      "%matplotlib inline\n",
      "\n",
      "interval = 1000\n",
      "\n",
      "os.chdir(\"/home/mike/Documents/Experiments/Evaluation/jitter/2/\")\n",
      "\n",
      "lines = [line.rstrip('\\n') for line in open('delay1000.txt')]\n",
      "\n",
      "delay = []\n",
      "\n",
      "for i in range(1, len(lines)):\n",
      "    delay.append(int(lines[i]) - interval)\n",
      "\n",
      "print delay\n",
      "print \"Min = \", min(delay), \"MilliSecs\"\n",
      "print \"Max = \", max(delay), \"MilliSecs\"\n",
      "print \"Std = \", np.std(delay), \"MilliSecs\"\n",
      "print \"Average= \", np.mean(delay), \"MilliSecs\"\n",
      "\n",
      "plt.hist(delay)      #use this to draw histogram of your data\n",
      "\n",
      "plt.show()    \n",
      "\n",
      "counts = np.bincount(delay)\n",
      "print \"Most frequent value:\", np.argmax(counts)"
     ],
     "language": "python",
     "metadata": {},
     "outputs": [
      {
       "output_type": "stream",
       "stream": "stdout",
       "text": [
        "[25, 18, 21, 13, 12, 12, 7, 7, 13, 15, 13, 9, 20, 14, 13, 16, 12, 14, 12, 15, 12, 16, 8, 12, 14, 14, 52, 19, 12, 13, 7, 15, 13, 8, 10, 12, 13, 15, 10, 8, 21, 13, 11, 12, 12, 14, 59, 14, 12, 16, 9, 10, 12, 14, 15, 11, 11, 16, 15, 14, 14, 12, 9, 14, 13, 12, 8, 12, 13, 12, 14, 7, 15, 13, 15, 16, 27, 16, 17, 19, 9, 13, 14, 16, 15, 12, 17, 15, 14, 13, 18, 15, 12, 14, 7, 9, 13, 14, 13, 12, 16, 12, 14, 6, 13, 12, 15, 14, 13, 11, 14, 13, 7, 8, 8, 9, 15, 14, 14, 7, 13, 12, 15, 8, 17, 13, 14, 7, 9, 16, 11, 13, 15, 16, 13, 20, 18, 13, 11, 17, 15, 13, 14, 9, 13, 14, 11, 14, 13, 15, 20, 14, 13, 21, 14, 14, 15, 14, 13, 19, 13, 17, 14, 14, 13, 14, 12, 14, 14, 14, 14, 14, 17, 16, 13, 14, 7, 14, 12, 7, 11, 7, 12, 14, 15, 9, 14, 13, 20, 7, 12, 12, 13, 13, 18, 12, 16, 15, 13, 15]\n",
        "Min =  6 MilliSecs\n",
        "Max =  59 MilliSecs\n",
        "Std =  5.33385414124 MilliSecs\n",
        "Average=  13.7 MilliSecs\n"
       ]
      },
      {
       "metadata": {},
       "output_type": "display_data",
       "png": "[encoded data removed]",
       "text": [
        "<matplotlib.figure.Figure at 0x7f8e05776350>"
       ]
      },
      {
       "output_type": "stream",
       "stream": "stdout",
       "text": [
        "Most frequent value: 14\n"
       ]
      }
     ],
     "prompt_number": 4
    },
    {
     "cell_type": "code",
     "collapsed": false,
     "input": [
      "interval = 1000\n",
      "\n",
      "os.chdir(\"/home/mike/Documents/Experiments/Evaluation/jitter/1/processing/\")\n",
      "\n",
      "lines = [line.rstrip('\\n') for line in open('1000.txt')]\n",
      "\n",
      "delay = []\n",
      "\n",
      "for i in range(1, len(lines)):\n",
      "    delay.append(int(lines[i]) - interval)\n",
      "\n",
      "print delay\n",
      "print \"Min = \", min(delay), \"MilliSecs\"\n",
      "print \"Max = \", max(delay), \"MilliSecs\"\n",
      "print \"Std = \", np.std(delay), \"MilliSecs\"\n",
      "print \"Average= \", np.mean(delay), \"MilliSecs\"\n",
      "\n",
      "plt.hist(delay)      #use this to draw histogram of your data\n",
      "\n",
      "plt.show()  \n",
      "\n",
      "counts = np.bincount(delay)\n",
      "print \"Most frequent value:\", np.argmax(counts)\n",
      "\n"
     ],
     "language": "python",
     "metadata": {},
     "outputs": [
      {
       "output_type": "stream",
       "stream": "stdout",
       "text": [
        "[8, 3, 7, 2, 12, 3, 10, 3, 8, 3, 10, 3, 10, 3, 10, 4, 16, 3, 8, 3, 10, 3, 17, 3, 21, 4, 15, 5, 14, 3, 18, 3, 14, 5, 12, 6, 9, 3, 13, 4, 13, 4, 16, 4, 14, 9, 7, 5, 32, 3, 22, 4, 12, 4, 12, 5, 26, 4, 10, 3, 12, 3, 11, 3, 11, 3, 15, 3, 12, 6, 10, 4, 14, 5, 9, 8, 11, 3, 11, 3, 10, 7, 10, 4, 10, 4, 21, 3, 16, 3, 10, 3, 8, 3, 7, 3, 11, 3, 8, 4, 8, 3, 22, 4, 7, 3, 11, 3, 9, 4, 11, 5, 7, 4, 11, 2, 7, 3, 8, 3, 8, 4, 9, 3, 8, 3, 18, 7, 24, 3, 8, 3, 7, 4, 8, 3, 10, 4, 7, 4, 10, 13, 7, 3, 8, 3, 8, 3, 9, 4, 12, 3, 10, 5, 17, 4, 20, 3, 10, 4, 7, 3, 8, 3, 8, 3, 9, 10, 9, 3, 7, 3, 7, 4, 8, 3, 12, 4, 10, 3, 7, 7, 14, 3, 11, 4, 13, 4, 10, 3, 7, 3, 7, 3, 12, 3, 8, 3, 8, 3]\n",
        "Min =  2 MilliSecs\n",
        "Max =  32 MilliSecs\n",
        "Std =  5.10410619012 MilliSecs\n",
        "Average=  7.59 MilliSecs\n"
       ]
      },
      {
       "metadata": {},
       "output_type": "display_data",
       "png": "[encoded data removed]",
       "text": [
        "<matplotlib.figure.Figure at 0x7f8dfebeb050>"
       ]
      },
      {
       "ename": "TypeError",
       "evalue": "'list' object is not callable",
       "output_type": "pyerr",
       "traceback": [
        "\u001b[0;31m---------------------------------------------------------------------------\u001b[0m\n\u001b[0;31mTypeError\u001b[0m                                 Traceback (most recent call last)",
        "\u001b[0;32m<ipython-input-5-25b60ba3d98a>\u001b[0m in \u001b[0;36m<module>\u001b[0;34m()\u001b[0m\n\u001b[1;32m     23\u001b[0m \u001b[0;32mprint\u001b[0m \u001b[0;34m\"Most frequent value:\"\u001b[0m\u001b[0;34m,\u001b[0m \u001b[0mnp\u001b[0m\u001b[0;34m.\u001b[0m\u001b[0margmax\u001b[0m\u001b[0;34m(\u001b[0m\u001b[0mcounts\u001b[0m\u001b[0;34m)\u001b[0m\u001b[0;34m\u001b[0m\u001b[0m\n\u001b[1;32m     24\u001b[0m \u001b[0;34m\u001b[0m\u001b[0m\n\u001b[0;32m---> 25\u001b[0;31m \u001b[0;32mprint\u001b[0m \u001b[0mstats\u001b[0m\u001b[0;34m.\u001b[0m\u001b[0mnorm\u001b[0m\u001b[0;34m.\u001b[0m\u001b[0mexpect\u001b[0m\u001b[0;34m(\u001b[0m\u001b[0mdelay\u001b[0m\u001b[0;34m)\u001b[0m\u001b[0;34m\u001b[0m\u001b[0m\n\u001b[0m",
        "\u001b[0;32m/usr/lib/python2.7/dist-packages/scipy/stats/distributions.pyc\u001b[0m in \u001b[0;36mexpect\u001b[0;34m(self, func, args, loc, scale, lb, ub, conditional, **kwds)\u001b[0m\n\u001b[1;32m   2066\u001b[0m             \u001b[0minvfac\u001b[0m \u001b[0;34m=\u001b[0m \u001b[0;36m1.0\u001b[0m\u001b[0;34m\u001b[0m\u001b[0m\n\u001b[1;32m   2067\u001b[0m         \u001b[0mkwds\u001b[0m\u001b[0;34m[\u001b[0m\u001b[0;34m'args'\u001b[0m\u001b[0;34m]\u001b[0m \u001b[0;34m=\u001b[0m \u001b[0margs\u001b[0m\u001b[0;34m\u001b[0m\u001b[0m\n\u001b[0;32m-> 2068\u001b[0;31m         \u001b[0;32mreturn\u001b[0m \u001b[0mintegrate\u001b[0m\u001b[0;34m.\u001b[0m\u001b[0mquad\u001b[0m\u001b[0;34m(\u001b[0m\u001b[0mfun\u001b[0m\u001b[0;34m,\u001b[0m \u001b[0mlb\u001b[0m\u001b[0;34m,\u001b[0m \u001b[0mub\u001b[0m\u001b[0;34m,\u001b[0m \u001b[0;34m**\u001b[0m\u001b[0mkwds\u001b[0m\u001b[0;34m)\u001b[0m\u001b[0;34m[\u001b[0m\u001b[0;36m0\u001b[0m\u001b[0;34m]\u001b[0m \u001b[0;34m/\u001b[0m \u001b[0minvfac\u001b[0m\u001b[0;34m\u001b[0m\u001b[0m\n\u001b[0m\u001b[1;32m   2069\u001b[0m \u001b[0;34m\u001b[0m\u001b[0m\n\u001b[1;32m   2070\u001b[0m \u001b[0;34m\u001b[0m\u001b[0m\n",
        "\u001b[0;32m/usr/lib/python2.7/dist-packages/scipy/integrate/quadpack.pyc\u001b[0m in \u001b[0;36mquad\u001b[0;34m(func, a, b, args, full_output, epsabs, epsrel, limit, points, weight, wvar, wopts, maxp1, limlst)\u001b[0m\n\u001b[1;32m    252\u001b[0m         \u001b[0margs\u001b[0m \u001b[0;34m=\u001b[0m \u001b[0;34m(\u001b[0m\u001b[0margs\u001b[0m\u001b[0;34m,\u001b[0m\u001b[0;34m)\u001b[0m\u001b[0;34m\u001b[0m\u001b[0m\n\u001b[1;32m    253\u001b[0m     \u001b[0;32mif\u001b[0m \u001b[0;34m(\u001b[0m\u001b[0mweight\u001b[0m \u001b[0;32mis\u001b[0m \u001b[0mNone\u001b[0m\u001b[0;34m)\u001b[0m\u001b[0;34m:\u001b[0m\u001b[0;34m\u001b[0m\u001b[0m\n\u001b[0;32m--> 254\u001b[0;31m         \u001b[0mretval\u001b[0m \u001b[0;34m=\u001b[0m \u001b[0m_quad\u001b[0m\u001b[0;34m(\u001b[0m\u001b[0mfunc\u001b[0m\u001b[0;34m,\u001b[0m\u001b[0ma\u001b[0m\u001b[0;34m,\u001b[0m\u001b[0mb\u001b[0m\u001b[0;34m,\u001b[0m\u001b[0margs\u001b[0m\u001b[0;34m,\u001b[0m\u001b[0mfull_output\u001b[0m\u001b[0;34m,\u001b[0m\u001b[0mepsabs\u001b[0m\u001b[0;34m,\u001b[0m\u001b[0mepsrel\u001b[0m\u001b[0;34m,\u001b[0m\u001b[0mlimit\u001b[0m\u001b[0;34m,\u001b[0m\u001b[0mpoints\u001b[0m\u001b[0;34m)\u001b[0m\u001b[0;34m\u001b[0m\u001b[0m\n\u001b[0m\u001b[1;32m    255\u001b[0m     \u001b[0;32melse\u001b[0m\u001b[0;34m:\u001b[0m\u001b[0;34m\u001b[0m\u001b[0m\n\u001b[1;32m    256\u001b[0m         \u001b[0mretval\u001b[0m \u001b[0;34m=\u001b[0m \u001b[0m_quad_weight\u001b[0m\u001b[0;34m(\u001b[0m\u001b[0mfunc\u001b[0m\u001b[0;34m,\u001b[0m\u001b[0ma\u001b[0m\u001b[0;34m,\u001b[0m\u001b[0mb\u001b[0m\u001b[0;34m,\u001b[0m\u001b[0margs\u001b[0m\u001b[0;34m,\u001b[0m\u001b[0mfull_output\u001b[0m\u001b[0;34m,\u001b[0m\u001b[0mepsabs\u001b[0m\u001b[0;34m,\u001b[0m\u001b[0mepsrel\u001b[0m\u001b[0;34m,\u001b[0m\u001b[0mlimlst\u001b[0m\u001b[0;34m,\u001b[0m\u001b[0mlimit\u001b[0m\u001b[0;34m,\u001b[0m\u001b[0mmaxp1\u001b[0m\u001b[0;34m,\u001b[0m\u001b[0mweight\u001b[0m\u001b[0;34m,\u001b[0m\u001b[0mwvar\u001b[0m\u001b[0;34m,\u001b[0m\u001b[0mwopts\u001b[0m\u001b[0;34m)\u001b[0m\u001b[0;34m\u001b[0m\u001b[0m\n",
        "\u001b[0;32m/usr/lib/python2.7/dist-packages/scipy/integrate/quadpack.pyc\u001b[0m in \u001b[0;36m_quad\u001b[0;34m(func, a, b, args, full_output, epsabs, epsrel, limit, points)\u001b[0m\n\u001b[1;32m    319\u001b[0m             \u001b[0;32mreturn\u001b[0m \u001b[0m_quadpack\u001b[0m\u001b[0;34m.\u001b[0m\u001b[0m_qagse\u001b[0m\u001b[0;34m(\u001b[0m\u001b[0mfunc\u001b[0m\u001b[0;34m,\u001b[0m\u001b[0ma\u001b[0m\u001b[0;34m,\u001b[0m\u001b[0mb\u001b[0m\u001b[0;34m,\u001b[0m\u001b[0margs\u001b[0m\u001b[0;34m,\u001b[0m\u001b[0mfull_output\u001b[0m\u001b[0;34m,\u001b[0m\u001b[0mepsabs\u001b[0m\u001b[0;34m,\u001b[0m\u001b[0mepsrel\u001b[0m\u001b[0;34m,\u001b[0m\u001b[0mlimit\u001b[0m\u001b[0;34m)\u001b[0m\u001b[0;34m\u001b[0m\u001b[0m\n\u001b[1;32m    320\u001b[0m         \u001b[0;32melse\u001b[0m\u001b[0;34m:\u001b[0m\u001b[0;34m\u001b[0m\u001b[0m\n\u001b[0;32m--> 321\u001b[0;31m             \u001b[0;32mreturn\u001b[0m \u001b[0m_quadpack\u001b[0m\u001b[0;34m.\u001b[0m\u001b[0m_qagie\u001b[0m\u001b[0;34m(\u001b[0m\u001b[0mfunc\u001b[0m\u001b[0;34m,\u001b[0m\u001b[0mbound\u001b[0m\u001b[0;34m,\u001b[0m\u001b[0minfbounds\u001b[0m\u001b[0;34m,\u001b[0m\u001b[0margs\u001b[0m\u001b[0;34m,\u001b[0m\u001b[0mfull_output\u001b[0m\u001b[0;34m,\u001b[0m\u001b[0mepsabs\u001b[0m\u001b[0;34m,\u001b[0m\u001b[0mepsrel\u001b[0m\u001b[0;34m,\u001b[0m\u001b[0mlimit\u001b[0m\u001b[0;34m)\u001b[0m\u001b[0;34m\u001b[0m\u001b[0m\n\u001b[0m\u001b[1;32m    322\u001b[0m     \u001b[0;32melse\u001b[0m\u001b[0;34m:\u001b[0m\u001b[0;34m\u001b[0m\u001b[0m\n\u001b[1;32m    323\u001b[0m         \u001b[0;32mif\u001b[0m \u001b[0minfbounds\u001b[0m \u001b[0;34m!=\u001b[0m \u001b[0;36m0\u001b[0m\u001b[0;34m:\u001b[0m\u001b[0;34m\u001b[0m\u001b[0m\n",
        "\u001b[0;32m/usr/lib/python2.7/dist-packages/scipy/stats/distributions.pyc\u001b[0m in \u001b[0;36mfun\u001b[0;34m(x, *args)\u001b[0m\n\u001b[1;32m   2055\u001b[0m         \u001b[0;32melse\u001b[0m\u001b[0;34m:\u001b[0m\u001b[0;34m\u001b[0m\u001b[0m\n\u001b[1;32m   2056\u001b[0m             \u001b[0;32mdef\u001b[0m \u001b[0mfun\u001b[0m\u001b[0;34m(\u001b[0m\u001b[0mx\u001b[0m\u001b[0;34m,\u001b[0m \u001b[0;34m*\u001b[0m\u001b[0margs\u001b[0m\u001b[0;34m)\u001b[0m\u001b[0;34m:\u001b[0m\u001b[0;34m\u001b[0m\u001b[0m\n\u001b[0;32m-> 2057\u001b[0;31m                 \u001b[0;32mreturn\u001b[0m \u001b[0mfunc\u001b[0m\u001b[0;34m(\u001b[0m\u001b[0mx\u001b[0m\u001b[0;34m)\u001b[0m \u001b[0;34m*\u001b[0m \u001b[0mself\u001b[0m\u001b[0;34m.\u001b[0m\u001b[0mpdf\u001b[0m\u001b[0;34m(\u001b[0m\u001b[0mx\u001b[0m\u001b[0;34m,\u001b[0m \u001b[0;34m*\u001b[0m\u001b[0margs\u001b[0m\u001b[0;34m,\u001b[0m \u001b[0;34m**\u001b[0m\u001b[0mlockwds\u001b[0m\u001b[0;34m)\u001b[0m\u001b[0;34m\u001b[0m\u001b[0m\n\u001b[0m\u001b[1;32m   2058\u001b[0m         \u001b[0;32mif\u001b[0m \u001b[0mlb\u001b[0m \u001b[0;32mis\u001b[0m \u001b[0mNone\u001b[0m\u001b[0;34m:\u001b[0m\u001b[0;34m\u001b[0m\u001b[0m\n\u001b[1;32m   2059\u001b[0m             \u001b[0mlb\u001b[0m \u001b[0;34m=\u001b[0m \u001b[0mloc\u001b[0m \u001b[0;34m+\u001b[0m \u001b[0mself\u001b[0m\u001b[0;34m.\u001b[0m\u001b[0ma\u001b[0m \u001b[0;34m*\u001b[0m \u001b[0mscale\u001b[0m\u001b[0;34m\u001b[0m\u001b[0m\n",
        "\u001b[0;31mTypeError\u001b[0m: 'list' object is not callable"
       ]
      },
      {
       "output_type": "stream",
       "stream": "stdout",
       "text": [
        "Most frequent value: 3\n"
       ]
      }
     ],
     "prompt_number": 5
    }
   ],
   "metadata": {}
  }
 ]
}