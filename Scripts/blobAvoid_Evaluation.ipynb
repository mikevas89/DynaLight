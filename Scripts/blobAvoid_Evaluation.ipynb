{
 "metadata": {
  "name": ""
 },
 "nbformat": 3,
 "nbformat_minor": 0,
 "worksheets": [
  {
   "cells": [
    {
     "cell_type": "code",
     "collapsed": false,
     "input": [
      "import glob, os\n",
      "import numpy as np\n",
      "import cv2\n",
      "from matplotlib import pyplot as plt\n",
      "import math\n",
      "from __future__ import division\n",
      "import re\n",
      "\n",
      "\n",
      "w = 8\n",
      "#packet = \"01010101\"\n",
      "#packet = \"01011001\"\n",
      "#packet = \"10100101\"\n",
      "\n",
      "#packet = \"0101010101010101\"\n",
      "#packet = \"0110\"\n",
      "#packet = \"1001\"\n",
      "#packet = \"010101\"\n",
      "\n",
      "packet = \"01011001\"\n",
      "\n",
      "%matplotlib inline\n",
      "\n",
      "def natural_sort(l): \n",
      "    convert = lambda text: int(text) if text.isdigit() else text.lower() \n",
      "    alphanum_key = lambda key: [ convert(c) for c in re.split('([0-9]+)', key) ] \n",
      "    return sorted(l, key = alphanum_key)\n",
      "\n",
      "def openImage( filename ):\n",
      "    gray_image = cv2.imread(filename, cv2.IMREAD_GRAYSCALE)    \n",
      "    return gray_image\n",
      "\n",
      "def equalizeHist(gray_image):\n",
      "    equ = cv2.equalizeHist(gray_image)\n",
      "    res = np.hstack((gray_image,equ)) #stacking images side-by-side\n",
      "    return equ\n",
      "    \n",
      "def equalizeHist2(gray_image):\n",
      "    # create a CLAHE object (Arguments are optional).\n",
      "    clahe = cv2.createCLAHE(clipLimit=10.0, tileGridSize=(8,8))\n",
      "    cl1 = clahe.apply(gray_image)\n",
      "    res = np.hstack((gray_image,cl1)) #stacking images side-by-side\n",
      "    return cl1\n",
      "    \n",
      "def blurImage(gray_image, input_image):\n",
      "    blur = cv2.blur(input_image,(3,3))\n",
      "    res1 = np.hstack((gray_image,input_image, blur)) #stacking images side-by-side\n",
      "    return blur\n",
      "\n",
      "def adaptiveThreshold(gray_image, equalized_image, input_image):\n",
      "    thresh = cv2.adaptiveThreshold(input_image,255,cv2.ADAPTIVE_THRESH_MEAN_C, cv2.THRESH_BINARY,125,2)\n",
      "    res1 = np.hstack((gray_image,equalized_image, input_image, thresh)) #stacking images side-by-side\n",
      "    \n",
      "    '''\n",
      "    plt.imshow(thresh, cmap = 'gray', interpolation = 'bicubic')\n",
      "    plt.xticks([]), plt.yticks([])  # to hide tick values on X and Y axis\n",
      "    plt.title('Adaptive Threshold')\n",
      "    plt.show()\n",
      "    '''\n",
      "    return thresh\n",
      "\n",
      "\n",
      "def middlePixelsofCircle(input_image, center, radius):\n",
      "    middle_pixels = []\n",
      "    \n",
      "    factor = 1\n",
      "    newRadius = int(math.ceil(factor*radius))\n",
      "    \n",
      "    start = center[1]-newRadius\n",
      "    if(start < 0):\n",
      "        start = 0\n",
      "        \n",
      "    end = center[1]+newRadius\n",
      "    if(end > input_image.shape[0]):\n",
      "        end = input_image.shape[0]\n",
      "\n",
      "    #print \"Start end of blob\", start, end\n",
      "\n",
      "\n",
      "    #for every row \n",
      "    for i in range (start, end):\n",
      "        #get the middle column pixel value\n",
      "        #print blur2[i,gray_image.shape[1]/2-1]\n",
      "        middle_pixels.append(input_image[i,center[0]])\n",
      "    \n",
      "    '''\n",
      "    #plot blur pixels\n",
      "    plt.plot(middle_pixels)\n",
      "    plt.ylabel('blur pixels')\n",
      "    plt.title('MiddlePixels of Blob')\n",
      "    plt.show()\n",
      "    '''\n",
      "    \n",
      "    return middle_pixels\n",
      "\n",
      "def getCorrectPixels(input_image, center, radius, offset):\n",
      "    \n",
      "    correct = []\n",
      "            \n",
      "    factor = 1\n",
      "    newRadius = int(math.ceil(factor*radius))\n",
      "    \n",
      "    start = center[1]-newRadius\n",
      "    if(start < 0):\n",
      "        start = 0\n",
      "        \n",
      "    end = center[1]+newRadius\n",
      "    if(end > input_image.shape[0]):\n",
      "        end = input_image.shape[0]\n",
      "    \n",
      "    \n",
      "    #print \"offset=\",offset\n",
      "\n",
      "    #for every row \n",
      "    for i in range (start, end):\n",
      "        #get the middle column pixel value\n",
      "        #print input_image[i,center[0]-offset]\n",
      "        correct.append(input_image[i,center[0]-offset])\n",
      "    \n",
      "    '''\n",
      "    #plot blur pixels\n",
      "    plt.plot(correct)\n",
      "    plt.ylabel('correct pixels')\n",
      "    plt.title('CorrectPixels (offset) of Blob')\n",
      "    plt.show()\n",
      "    '''\n",
      "    return correct\n",
      "\n",
      "def getCorrectPixels2(input_image, center, radius, offset, blobStart):\n",
      "    \n",
      "    correct = []\n",
      "                \n",
      "    factor = 1\n",
      "    newRadius = int(math.ceil(factor*radius))\n",
      "    \n",
      "    start = center[1]-newRadius\n",
      "    if(start < 0):\n",
      "        start = 0\n",
      "        \n",
      "    end = center[1]+newRadius\n",
      "    if(end > input_image.shape[0]):\n",
      "        end = input_image.shape[0]\n",
      "    \n",
      "    \n",
      "    #print \"offset=\",offset\n",
      "    \n",
      "    #for every row \n",
      "    for i in range (start, end):\n",
      "        #get the middle column pixel value\n",
      "        #print input_image[i,center[0]-offset]\n",
      "        #print i\n",
      "        if(i >= (blobStart+start) and (i<= (blobStart + start + offset))):\n",
      "            #print i\n",
      "            correct.append(input_image[i,center[0]-(offset)])\n",
      "        else:\n",
      "            correct.append(input_image[i,center[0] ])\n",
      "        \n",
      "    '''\n",
      "    #plot blur pixels\n",
      "    plt.plot(correct)\n",
      "    plt.ylabel('correct pixels')\n",
      "    plt.title('CorrectPixels!!!! (offset) of Blob')\n",
      "    plt.show()\n",
      "    '''\n",
      "    return correct\n",
      "\n",
      "\n",
      "def avoidBlob(inputPixels):\n",
      "    \n",
      "    peaks = []\n",
      "    falls = []\n",
      "    for i in range(0 , len(inputPixels)-1):\n",
      "        \n",
      "        if(inputPixels[i] == 0 and inputPixels[i+1] == 255):\n",
      "            peaks.append(i)\n",
      "        elif (inputPixels[i] == 255 and inputPixels[i+1] == 0 and len(peaks) !=0):\n",
      "            falls.append(i)\n",
      "            \n",
      "    #print peaks\n",
      "    #print falls\n",
      "    \n",
      "    blobStart = 0\n",
      "    blobEnd = 0\n",
      "    for i in range(0 , len(falls)):\n",
      "        \n",
      "        dif = falls[i] - peaks[i]\n",
      "        #print dif\n",
      "        #3.5 * 8 width = 28\n",
      "        if( dif >= 28):\n",
      "            \n",
      "            if(blobStart == 0):\n",
      "                blobStart = peaks[i]\n",
      "                #print \"start\", blobStart\n",
      "        elif( dif < 20 and blobStart != 0):\n",
      "            blobEnd = falls[i-1]\n",
      "            #print \"end\", blobEnd\n",
      "            break;\n",
      "    \n",
      "    offset = blobEnd - blobStart\n",
      "    \n",
      "            \n",
      "    return offset, blobStart\n",
      "\n",
      "def avoidBlob2(input_image, center, radius):\n",
      "    \n",
      "    factor = 1\n",
      "    newRadius = int(math.ceil(factor*radius))\n",
      "    \n",
      "    start = center[1]-newRadius\n",
      "    if(start < 0):\n",
      "        start = 0\n",
      "        \n",
      "    end = center[1]+newRadius\n",
      "    if(end > input_image.shape[0]):\n",
      "        end = input_image.shape[0]\n",
      "\n",
      "    #print \"Start end of blob\", start, end\n",
      "    \n",
      "    column = center[0]\n",
      "\n",
      "    \n",
      "    while(1):\n",
      "        \n",
      "        pixels = []\n",
      "        \n",
      "        #print column\n",
      "        \n",
      "        #for every row \n",
      "        for i in range (start, end):\n",
      "            pixels.append(input_image[i,column])\n",
      "        \n",
      "        peaks = []\n",
      "        falls = []\n",
      "        for i in range(0 , len(pixels)-1):\n",
      "            \n",
      "            if(pixels[i] == 0 and pixels[i+1] == 255):\n",
      "                peaks.append(i)\n",
      "            elif (pixels[i] == 255 and pixels[i+1] == 0 and len(peaks) !=0):\n",
      "                falls.append(i)\n",
      "        \n",
      "        noBlob = 0\n",
      "        for i in range(0 , len(falls)):\n",
      "        \n",
      "            dif = falls[i] - peaks[i]\n",
      "            #print dif\n",
      "            #3.5 * 8 width = 28\n",
      "            if( dif > 3 * w):\n",
      "                column = column - 1\n",
      "                noBlob = 1\n",
      "                \n",
      "        \n",
      "        if(noBlob == 0):\n",
      "            break\n",
      "    \n",
      "    return center[0] - column\n",
      "\n",
      "\n",
      "def decode(inputPixels):\n",
      "    \n",
      "    result = \"\"\n",
      "    \n",
      "    count = 0\n",
      "    peaks = []\n",
      "    falls = []\n",
      "    for i in range(0 , len(inputPixels)-1):\n",
      "        \n",
      "        #print inputPixels[i]\n",
      "        if(inputPixels[i] == 0 and inputPixels[i+1] == 255):\n",
      "            peaks.append(i)\n",
      "        elif (inputPixels[i] == 255 and inputPixels[i+1] == 0 and len(peaks) !=0):\n",
      "            falls.append(i)\n",
      "     \n",
      "  \n",
      "    if(len(peaks)> len(falls)):\n",
      "        del peaks[len(peaks) - 1]\n",
      "        \n",
      "    print len(peaks)\n",
      "    #print falls\n",
      "    \n",
      "    j = 1\n",
      "    \n",
      "    firstPreamble = 0\n",
      "    secondPreable = 0\n",
      "    for i in range(0, len(peaks)):\n",
      "        \n",
      "        dif = falls[i] - peaks[i]\n",
      "        #print dif\n",
      "        if( dif >= 2.5 * w):\n",
      "            if (j == 1):\n",
      "                \n",
      "                if(i==0):\n",
      "                    continue\n",
      "                #print \"First Preamble\", i\n",
      "                firstPreamble = i\n",
      "                j = j+1\n",
      "            else:\n",
      "                #nextDif = falls[i+1] - peaks[i+1]\n",
      "                #if( nextDif <= 20):\n",
      "                    \n",
      "                    \n",
      "                    #if(i == firstPreamble + 1):\n",
      "                     #   continue\n",
      "                   \n",
      "                        \n",
      "                        \n",
      "                    print \"Second Preamble\", i\n",
      "                    secondPreable = i\n",
      "                    break\n",
      "    \n",
      "    if(secondPreable == 0):\n",
      "        return result\n",
      "    \n",
      "    #print secondPreable - firstPreamble\n",
      "    i = 1\n",
      "    addZero = 0\n",
      "    while(1):\n",
      "        \n",
      "        dif = peaks[firstPreamble + i] - falls[firstPreamble + i -1]\n",
      "        #print \"fallDif\", dif\n",
      "        if(dif > 1.3*w):\n",
      "            if (i == 1 or firstPreamble + i == secondPreable):\n",
      "                #print \"0\"\n",
      "                result = result + \"0\"\n",
      "            else:\n",
      "                #print \"0\"\n",
      "                #print \"/0\"\n",
      "                result = result + \"0\"\n",
      "                result = result + \"0\"\n",
      "\n",
      "\n",
      "        else:\n",
      "            if ((i != 1 and firstPreamble + i != secondPreable) or addZero == 1 ):\n",
      "                #print \"0\"\n",
      "                result = result + \"0\"\n",
      "\n",
      "    \n",
      "        \n",
      "        if(firstPreamble + i == secondPreable):\n",
      "            break\n",
      "    \n",
      "        dif = falls[firstPreamble + i] - peaks[firstPreamble + i]\n",
      "        #print \"i\",firstPreamble + i\n",
      "        #print dif\n",
      "        if(dif > 1.5*w):\n",
      "            #print \"1\"\n",
      "            #print \"/1\"\n",
      "            result = result + \"1\"\n",
      "            result = result + \"1\"\n",
      "\n",
      "            if(firstPreamble + i + 1 == secondPreable):\n",
      "                addZero = 1\n",
      "            \n",
      "        else:\n",
      "            #print \"1\"\n",
      "            result = result + \"1\"\n",
      "\n",
      "        \n",
      "        '''\n",
      "        if(firstPreamble + i == secondPreable):\n",
      "            break\n",
      "        '''\n",
      "        i = i + 1 \n",
      "    return result\n",
      "\n",
      "\n",
      "\n",
      "\n",
      "def processOffset(path):\n",
      "    \n",
      "    average_array = []\n",
      "    std_array = []\n",
      "    \n",
      "       \n",
      "    os.chdir(path)\n",
      "    \n",
      "    i = 0\n",
      "    \n",
      "    for file in os.listdir(os.getcwd()):\n",
      "        if file.endswith(\".jpg\"):\n",
      "            #print file\n",
      "            \n",
      "            gray_image = openImage(file)\n",
      "            \n",
      "            equalized_image2 = equalizeHist2(gray_image)\n",
      "            \n",
      "            blurred2 = blurImage(gray_image, equalized_image2)\n",
      "            \n",
      "            adaptive = adaptiveThreshold(gray_image, equalized_image2, blurred2)\n",
      "\n",
      "            #3000\n",
      "            center = (959,582)\n",
      "            radius = 160\n",
      "            \n",
      "            #3250\n",
      "            #center = (963,585)\n",
      "            #radius = 160\n",
      "\n",
      "        \n",
      "            #middlePixelsCircle = middlePixelsofCircle(adaptive, center, radius)\n",
      "            #middleRowResult = decode(middlePixelsCircle)\n",
      "            \n",
      "            #print \"Middle\", len(middleRowResult)\n",
      "            '''\n",
      "            offset, blobStart = avoidBlob(middlePixelsCircle)\n",
      "            \n",
      "            print offset, blobStart\n",
      "            \n",
      "            correctionPixels = getCorrectPixels2(adaptive, center, radius, offset, blobStart)\n",
      "            '''\n",
      "            \n",
      "            columnOffset = avoidBlob2(adaptive, center, radius)\n",
      "            \n",
      "            #print columnOffset\n",
      "    \n",
      "            correctionPixels = getCorrectPixels(adaptive, center, radius, columnOffset)\n",
      "    \n",
      "\n",
      "            \n",
      "            avoidBlobResult = decode(correctionPixels)\n",
      "            #print avoidBlobResult\n",
      "            \n",
      "\n",
      "            if(avoidBlobResult == packet):\n",
      "                #print \"Correct\"\n",
      "                i = i + 1\n",
      "            else:\n",
      "                print file\n",
      "                print avoidBlobResult\n",
      "\n",
      "                #print i\n",
      "            #print \"Avoid\", len(avoidBlobResult)\n",
      "            \n",
      "            #break;\n",
      "    print \"offset\"    \n",
      "    print i\n",
      "\n",
      "\n",
      "def processMiddle(path):\n",
      "    \n",
      "    average_array = []\n",
      "    std_array = []\n",
      "    \n",
      "       \n",
      "    os.chdir(path)\n",
      "    \n",
      "    i = 0\n",
      "    \n",
      "    for file in os.listdir(os.getcwd()):\n",
      "        if file.endswith(\".jpg\"):\n",
      "            #print file\n",
      "            \n",
      "            gray_image = openImage(file)\n",
      "            \n",
      "            equalized_image2 = equalizeHist2(gray_image)\n",
      "            \n",
      "            blurred2 = blurImage(gray_image, equalized_image2)\n",
      "            \n",
      "            adaptive = adaptiveThreshold(gray_image, equalized_image2, blurred2)\n",
      "\n",
      "            #3000\n",
      "            center = (966,586)\n",
      "            radius = 160\n",
      "            \n",
      "            #3250\n",
      "            #center = (963,585)\n",
      "            #radius = 160\n",
      "\n",
      "        \n",
      "            middlePixelsCircle = middlePixelsofCircle(adaptive, center, radius)\n",
      "            #middleRowResult = decode(middlePixelsCircle)\n",
      "            \n",
      "            #print \"Middle\", len(middleRowResult)\n",
      "            '''\n",
      "            offset, blobStart = avoidBlob(middlePixelsCircle)\n",
      "            \n",
      "            print offset, blobStart\n",
      "            \n",
      "            correctionPixels = getCorrectPixels2(adaptive, center, radius, offset, blobStart)\n",
      "            '''\n",
      "            \n",
      "            columnOffset = avoidBlob2(adaptive, center, radius)\n",
      "    \n",
      "            correctionPixels = getCorrectPixels(adaptive, center, radius, 0)\n",
      "    \n",
      "\n",
      "            \n",
      "            avoidBlobResult = decode(correctionPixels)\n",
      "            #print avoidBlobResult\n",
      "            \n",
      "            if(avoidBlobResult == packet):\n",
      "                #print \"Correct\"\n",
      "                i = i + 1\n",
      "            #else:\n",
      "             #   print file\n",
      "                #print i\n",
      "            #print \"Avoid\", len(avoidBlobResult)\n",
      "            \n",
      "            #break;\n",
      "    print \"Middle\"    \n",
      "    print i\n",
      "\n",
      "def processMiddleOffset(path):\n",
      "    \n",
      "    average_array = []\n",
      "    std_array = []\n",
      "    \n",
      "       \n",
      "    os.chdir(path)\n",
      "    \n",
      "    i = 0\n",
      "    \n",
      "    for file in os.listdir(os.getcwd()):\n",
      "        if file.endswith(\".jpg\"):\n",
      "            print file\n",
      "            \n",
      "            gray_image = openImage(file)\n",
      "            \n",
      "            equalized_image2 = equalizeHist2(gray_image)\n",
      "            \n",
      "            blurred2 = blurImage(gray_image, equalized_image2)\n",
      "            \n",
      "            adaptive = adaptiveThreshold(gray_image, equalized_image2, blurred2)\n",
      "\n",
      "            #3000\n",
      "            center = (958,557)\n",
      "            radius = 90\n",
      "            \n",
      "            #3250\n",
      "            #center = (963,585)\n",
      "            #radius = 160\n",
      "\n",
      "        \n",
      "            middlePixelsCircle = middlePixelsofCircle(adaptive, center, radius)\n",
      "            #middleRowResult = decode(middlePixelsCircle)\n",
      "            \n",
      "            #print \"Middle\", len(middleRowResult)\n",
      "            \n",
      "            offset, blobStart = avoidBlob(middlePixelsCircle)\n",
      "            \n",
      "            #print offset, blobStart\n",
      "            \n",
      "            correctionPixels = getCorrectPixels2(adaptive, center, radius, offset, blobStart)\n",
      "            \n",
      "            \n",
      "            '''\n",
      "            columnOffset = avoidBlob2(adaptive, center, radius)\n",
      "    \n",
      "            correctionPixels = getCorrectPixels(adaptive, center, radius, 0)\n",
      "    \n",
      "            '''\n",
      "            \n",
      "            avoidBlobResult = decode(correctionPixels)\n",
      "            #print avoidBlobResult\n",
      "            \n",
      "            \n",
      "            if(avoidBlobResult == packet):\n",
      "                #print \"Correct\"\n",
      "                i = i + 1\n",
      "            #else:\n",
      "             #   print file\n",
      "                #print i\n",
      "            #print \"Avoid\", len(avoidBlobResult)\n",
      "            \n",
      "            #break;\n",
      "    print \"MiddleOffset\"    \n",
      "    print i\n",
      "\n",
      "'''\n",
      "path = \"/home/mike/Documents/Experiments/Evaluation/pixel_selection/3/\"\n",
      "processOffset(path)\n",
      "processMiddle(path)\n",
      "processMiddleOffset(path)\n",
      "'''\n",
      "path = \"/home/mike/Documents/Experiments/Evaluation/test/\"\n",
      "processOffset(path)\n",
      "\n",
      "\n",
      "\n",
      "#process(\"/home/mike/Documents/Experiments/warm_white_2/BlobAvoid_evaluation3250/\")\n"
     ],
     "language": "python",
     "metadata": {},
     "outputs": [
      {
       "output_type": "stream",
       "stream": "stdout",
       "text": [
        "11\n",
        "Second Preamble 6\n",
        "12"
       ]
      },
      {
       "output_type": "stream",
       "stream": "stdout",
       "text": [
        "\n",
        "Second Preamble 6\n",
        "12"
       ]
      },
      {
       "output_type": "stream",
       "stream": "stdout",
       "text": [
        "\n",
        "Second Preamble 8\n",
        "13"
       ]
      },
      {
       "output_type": "stream",
       "stream": "stdout",
       "text": [
        "\n",
        "Second Preamble 6\n",
        "12"
       ]
      },
      {
       "output_type": "stream",
       "stream": "stdout",
       "text": [
        "\n",
        "Second Preamble 7\n",
        "11"
       ]
      },
      {
       "output_type": "stream",
       "stream": "stdout",
       "text": [
        "\n",
        "Second Preamble 6\n",
        "12"
       ]
      },
      {
       "output_type": "stream",
       "stream": "stdout",
       "text": [
        "\n",
        "Second Preamble 6\n",
        "11"
       ]
      },
      {
       "output_type": "stream",
       "stream": "stdout",
       "text": [
        "\n",
        "Second Preamble 6\n",
        "14"
       ]
      },
      {
       "output_type": "stream",
       "stream": "stdout",
       "text": [
        "\n",
        "Second Preamble 6\n",
        "11"
       ]
      },
      {
       "output_type": "stream",
       "stream": "stdout",
       "text": [
        "\n",
        "Second Preamble 7\n",
        "12"
       ]
      },
      {
       "output_type": "stream",
       "stream": "stdout",
       "text": [
        "\n",
        "Second Preamble 8\n",
        "11"
       ]
      },
      {
       "output_type": "stream",
       "stream": "stdout",
       "text": [
        "\n",
        "Second Preamble 8\n",
        "11"
       ]
      },
      {
       "output_type": "stream",
       "stream": "stdout",
       "text": [
        "\n",
        "Second Preamble 6\n",
        "12"
       ]
      },
      {
       "output_type": "stream",
       "stream": "stdout",
       "text": [
        "\n",
        "Second Preamble 7\n",
        "12"
       ]
      },
      {
       "output_type": "stream",
       "stream": "stdout",
       "text": [
        "\n",
        "Second Preamble 8\n",
        "13"
       ]
      },
      {
       "output_type": "stream",
       "stream": "stdout",
       "text": [
        "\n",
        "Second Preamble 7\n",
        "11"
       ]
      },
      {
       "output_type": "stream",
       "stream": "stdout",
       "text": [
        "\n",
        "Second Preamble 6\n",
        "12"
       ]
      },
      {
       "output_type": "stream",
       "stream": "stdout",
       "text": [
        "\n",
        "Second Preamble 6\n",
        "12"
       ]
      },
      {
       "output_type": "stream",
       "stream": "stdout",
       "text": [
        "\n",
        "Second Preamble 7\n",
        "11"
       ]
      },
      {
       "output_type": "stream",
       "stream": "stdout",
       "text": [
        "\n",
        "Second Preamble 6\n",
        "11"
       ]
      },
      {
       "output_type": "stream",
       "stream": "stdout",
       "text": [
        "\n",
        "Second Preamble 6\n",
        "12"
       ]
      },
      {
       "output_type": "stream",
       "stream": "stdout",
       "text": [
        "\n",
        "Second Preamble 5\n",
        "12"
       ]
      },
      {
       "output_type": "stream",
       "stream": "stdout",
       "text": [
        "\n",
        "Second Preamble 6\n",
        "11"
       ]
      },
      {
       "output_type": "stream",
       "stream": "stdout",
       "text": [
        "\n",
        "Second Preamble 6\n",
        "11"
       ]
      },
      {
       "output_type": "stream",
       "stream": "stdout",
       "text": [
        "\n",
        "Second Preamble 8\n",
        "12"
       ]
      },
      {
       "output_type": "stream",
       "stream": "stdout",
       "text": [
        "\n",
        "Second Preamble 7\n",
        "11"
       ]
      },
      {
       "output_type": "stream",
       "stream": "stdout",
       "text": [
        "\n",
        "Second Preamble 6\n",
        "12"
       ]
      },
      {
       "output_type": "stream",
       "stream": "stdout",
       "text": [
        "\n",
        "Second Preamble 8\n",
        "12"
       ]
      },
      {
       "output_type": "stream",
       "stream": "stdout",
       "text": [
        "\n",
        "Second Preamble 5\n",
        "11"
       ]
      },
      {
       "output_type": "stream",
       "stream": "stdout",
       "text": [
        "\n",
        "Second Preamble 6\n",
        "12"
       ]
      },
      {
       "output_type": "stream",
       "stream": "stdout",
       "text": [
        "\n",
        "Second Preamble 7\n",
        "13"
       ]
      },
      {
       "output_type": "stream",
       "stream": "stdout",
       "text": [
        "\n",
        "Second Preamble 8\n",
        "12"
       ]
      },
      {
       "output_type": "stream",
       "stream": "stdout",
       "text": [
        "\n",
        "Second Preamble 7\n",
        "11"
       ]
      },
      {
       "output_type": "stream",
       "stream": "stdout",
       "text": [
        "\n",
        "Second Preamble 6\n",
        "12"
       ]
      },
      {
       "output_type": "stream",
       "stream": "stdout",
       "text": [
        "\n",
        "Second Preamble 7\n",
        "11"
       ]
      },
      {
       "output_type": "stream",
       "stream": "stdout",
       "text": [
        "\n",
        "Second Preamble 6\n",
        "12"
       ]
      },
      {
       "output_type": "stream",
       "stream": "stdout",
       "text": [
        "\n",
        "Second Preamble 6\n",
        "11"
       ]
      },
      {
       "output_type": "stream",
       "stream": "stdout",
       "text": [
        "\n",
        "Second Preamble 6\n",
        "12"
       ]
      },
      {
       "output_type": "stream",
       "stream": "stdout",
       "text": [
        "\n",
        "Second Preamble 5\n",
        "12"
       ]
      },
      {
       "output_type": "stream",
       "stream": "stdout",
       "text": [
        "\n",
        "Second Preamble 6\n",
        "12"
       ]
      },
      {
       "output_type": "stream",
       "stream": "stdout",
       "text": [
        "\n",
        "Second Preamble 7\n",
        "11"
       ]
      },
      {
       "output_type": "stream",
       "stream": "stdout",
       "text": [
        "\n",
        "Second Preamble 6\n",
        "11"
       ]
      },
      {
       "output_type": "stream",
       "stream": "stdout",
       "text": [
        "\n",
        "Second Preamble 8\n",
        "12"
       ]
      },
      {
       "output_type": "stream",
       "stream": "stdout",
       "text": [
        "\n",
        "Second Preamble 6\n",
        "13"
       ]
      },
      {
       "output_type": "stream",
       "stream": "stdout",
       "text": [
        "\n",
        "Second Preamble 5\n",
        "Picture_20154925094907.jpg\n",
        "010011001\n",
        "11"
       ]
      },
      {
       "output_type": "stream",
       "stream": "stdout",
       "text": [
        "\n",
        "Second Preamble 6\n",
        "11"
       ]
      },
      {
       "output_type": "stream",
       "stream": "stdout",
       "text": [
        "\n",
        "Second Preamble 6\n",
        "11"
       ]
      },
      {
       "output_type": "stream",
       "stream": "stdout",
       "text": [
        "\n",
        "Second Preamble 8\n",
        "11"
       ]
      },
      {
       "output_type": "stream",
       "stream": "stdout",
       "text": [
        "\n",
        "Second Preamble 6\n",
        "12"
       ]
      },
      {
       "output_type": "stream",
       "stream": "stdout",
       "text": [
        "\n",
        "Second Preamble 8\n",
        "12"
       ]
      },
      {
       "output_type": "stream",
       "stream": "stdout",
       "text": [
        "\n",
        "Second Preamble 6\n",
        "offset\n",
        "50\n"
       ]
      }
     ],
     "prompt_number": 32
    }
   ],
   "metadata": {}
  }
 ]
}