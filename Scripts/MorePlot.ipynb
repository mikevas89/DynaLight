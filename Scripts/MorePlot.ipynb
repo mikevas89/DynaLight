{
 "metadata": {
  "name": ""
 },
 "nbformat": 3,
 "nbformat_minor": 0,
 "worksheets": [
  {
   "cells": [
    {
     "cell_type": "code",
     "collapsed": false,
     "input": [
      "import sys, serial, argparse\n",
      "import numpy as np\n",
      "import time\n",
      "import sys\n",
      "from datetime import datetime\n",
      "from IPython.display import clear_output\n",
      "from collections import deque\n",
      "\n",
      "import matplotlib.pyplot as plt \n",
      "import matplotlib.animation as animation\n",
      "\n",
      "# constants\n",
      "maxLen = 200\n",
      "v0 = deque([0.0]*maxLen)\n",
      "v1 = deque([0.0]*maxLen)\n",
      "#ardtime = deque([0.0]*maxLen)\n",
      "\n",
      "strPort = '/dev/ttyACM0'\n",
      "ser = serial.Serial(strPort, 115200)\n",
      "first = 0\n",
      "time1 = 0\n",
      "time2 = 0\n",
      "\n",
      "# set up animation\n",
      "fig = plt.figure(1, figsize=(15,10))\n",
      "ax = plt.axes(xlim=(0, 200), ylim=(0, 500))\n",
      "line_1, = ax.plot([], [], lw=2)\n",
      "\n",
      "# initialization function: plot the background of each frame\n",
      "def init():\n",
      "    line_1.set_data([], [])\n",
      "    return line_1, \n",
      "\n",
      "# animation function. This is called sequentially\n",
      "def animate(i):\n",
      "    try:\n",
      "        line = ser.readline()\n",
      "        line = line.strip()\n",
      "        #print line\n",
      "        data = int(line)\n",
      "        #print first\n",
      "        global first \n",
      "        #print first\n",
      "        if(data > 10):\n",
      "            if(first == 0):\n",
      "                global time1 \n",
      "                time1 = int(round(time.time() * 1000))\n",
      "                #print time1\n",
      "                first = 1\n",
      "            elif(first == 2):\n",
      "                global time2 \n",
      "                time2 = int(round(time.time() * 1000))\n",
      "                period = time2 - time1\n",
      "                first = 0\n",
      "                #sys.stdout.flush()\n",
      "                #clear_output()\n",
      "                #print \"Period in millis: \", period\n",
      "                #print float(1/float(period)*1000)\n",
      "                print round(float(1/float(period)*1000),3)\n",
      "        else:\n",
      "            if(first == 1):\n",
      "                first = 2\n",
      "        \n",
      "        v0.pop()\n",
      "        v0.appendleft(data)\n",
      "        #print data[0]\n",
      "        line_1.set_data(range(maxLen),v0)\n",
      "    except KeyboardInterrupt:\n",
      "        print('exiting')\n",
      "        ser.flush()\n",
      "        ser.close()\n",
      "    return line_1,\n",
      "\n",
      "# call the animator. blit=True means only re-draw the parts that have changed.\n",
      "#update every 1ms or 1kHz\n",
      "anim = animation.FuncAnimation(fig, animate, init_func=init, interval=1, blit=True)\n",
      "\n",
      "string_1 = ''.join([r'$\\Delta$time $\\approx$ Arduino_delay'])\n",
      "plt.xlabel(string_1, fontsize=20)\n",
      "plt.ylabel(\"Bits, arb. units\", fontsize=20)\n",
      "plt.tick_params(axis=\"both\", labelsize=20)\n",
      "\n",
      "# show plot\n",
      "plt.grid(True)\n",
      "plt.show()\n",
      "\n",
      "# flush and close the serial port\n",
      "ser.flush()\n",
      "ser.close()"
     ],
     "language": "python",
     "metadata": {},
     "outputs": [
      {
       "output_type": "stream",
       "stream": "stdout",
       "text": [
        "0.058\n",
        "0.069"
       ]
      },
      {
       "output_type": "stream",
       "stream": "stdout",
       "text": [
        "\n",
        "0.067"
       ]
      }
     ],
     "prompt_number": "*"
    },
    {
     "cell_type": "code",
     "collapsed": false,
     "input": [
      "\n",
      "\n",
      "\n",
      "\n"
     ],
     "language": "python",
     "metadata": {},
     "outputs": [],
     "prompt_number": 11
    },
    {
     "cell_type": "code",
     "collapsed": false,
     "input": [],
     "language": "python",
     "metadata": {},
     "outputs": []
    }
   ],
   "metadata": {}
  }
 ]
}